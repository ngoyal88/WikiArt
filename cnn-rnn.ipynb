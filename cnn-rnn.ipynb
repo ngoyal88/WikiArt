{
 "cells": [
  {
   "cell_type": "code",
   "execution_count": 1,
   "metadata": {},
   "outputs": [],
   "source": [
    "import os\n",
    "import pandas as pd\n",
    "import torch\n",
    "from torchvision import transforms\n",
    "from torch.utils.data import Dataset\n",
    "from torch.utils.data import DataLoader\n",
    "import torch.nn as nn\n",
    "import torchvision.models as models\n",
    "import torch.optim as optim\n",
    "from PIL import Image\n",
    "from tqdm import tqdm"
   ]
  },
  {
   "cell_type": "code",
   "execution_count": 2,
   "metadata": {},
   "outputs": [
    {
     "name": "stdout",
     "output_type": "stream",
     "text": [
      "Artist Train Sample:\n",
      "                                                Path  Label\n",
      "0  Realism/vincent-van-gogh_pine-trees-in-the-fen...     22\n",
      "1  Baroque/rembrandt_the-angel-appearing-to-the-s...     20\n",
      "2  Post_Impressionism/paul-cezanne_portrait-of-th...     16\n",
      "3  Impressionism/pierre-auguste-renoir_young-girl...     17\n",
      "4       Romanticism/ivan-aivazovsky_morning-1851.jpg      9 \n",
      "\n",
      "Genre Train Sample:\n",
      "                                                Path  Label\n",
      "0  Impressionism/alfred-sisley_by-way-of-the-old-...      4\n",
      "1  Mannerism_Late_Renaissance/titian_youth-with-d...      6\n",
      "2              Realism/aleksey-savrasov_spring-1.jpg      4\n",
      "3  Art_Nouveau_Modern/boris-kustodiev_in-the-box-...      2\n",
      "4  Art_Nouveau_Modern/raphael-kirchner_love-flowe...      2 \n",
      "\n",
      "Style Train Sample:\n",
      "                                                Path  Label\n",
      "0  Baroque/annibale-carracci_hommage-to-diana-160...      4\n",
      "1  Symbolism/nicholas-roerich_sketch-for-tale-of-...     24\n",
      "2  Realism/charles-hermans_at-the-masquerade-deta...     21\n",
      "3  Post_Impressionism/kazuo-nakamura_blue-reflect...     20\n",
      "4  Rococo/joshua-reynolds_mrs-richard-paul-jodrel...     22 \n",
      "\n"
     ]
    }
   ],
   "source": [
    "DATASET_ROOT = \"wikiart\"\n",
    "\n",
    "train_artist = pd.read_csv(\"artist_train.csv\")\n",
    "val_artist = pd.read_csv(\"artist_val.csv\")\n",
    "\n",
    "train_genre = pd.read_csv(\"genre_train.csv\")\n",
    "train_genre = train_genre.sample(frac=0.5, random_state=42).reset_index(drop=True)\n",
    "\n",
    "val_genre = pd.read_csv(\"genre_val.csv\")\n",
    "val_genre = val_genre.sample(frac=0.5, random_state=42).reset_index(drop=True)\n",
    "\n",
    "train_style = pd.read_csv(\"style_train.csv\")\n",
    "train_style = train_style.sample(frac=0.3, random_state=42).reset_index(drop=True)\n",
    "\n",
    "val_style = pd.read_csv(\"style_val.csv\")\n",
    "val_style = val_style.sample(frac=0.3, random_state=42).reset_index(drop=True)\n",
    "\n",
    "# Display sample rows\n",
    "print(\"Artist Train Sample:\")\n",
    "print(train_artist.head(), \"\\n\")\n",
    "\n",
    "print(\"Genre Train Sample:\")\n",
    "print(train_genre.head(), \"\\n\")\n",
    "\n",
    "print(\"Style Train Sample:\")\n",
    "print(train_style.head(), \"\\n\")\n"
   ]
  },
  {
   "cell_type": "code",
   "execution_count": 3,
   "metadata": {},
   "outputs": [],
   "source": [
    "train_transforms = transforms.Compose([\n",
    "    transforms.Resize((128, 128)),  \n",
    "    transforms.RandomHorizontalFlip(),  \n",
    "    transforms.RandomRotation(15), \n",
    "    transforms.ToTensor(), \n",
    "    transforms.Normalize(mean=[0.5, 0.5, 0.5], std=[0.5, 0.5, 0.5]) \n",
    "])\n",
    "\n",
    "val_transforms = transforms.Compose([\n",
    "    transforms.Resize((128, 128)),\n",
    "    transforms.ToTensor(),\n",
    "    transforms.Normalize(mean=[0.5, 0.5, 0.5], std=[0.5, 0.5, 0.5])\n",
    "])\n"
   ]
  },
  {
   "cell_type": "code",
   "execution_count": 4,
   "metadata": {},
   "outputs": [
    {
     "name": "stdout",
     "output_type": "stream",
     "text": [
      "❌ Skipping missing file: wikiart\\Post_Impressionism/vincent-van-gogh_l-arlesienne-portrait-of-madame-ginoux-1890.jpg\n",
      "❌ Skipping missing file: wikiart\\Baroque/rembrandt_woman-standing-with-raised-hands.jpg\n",
      "❌ Skipping missing file: wikiart\\Baroque/rembrandt_woman-standing-with-raised-hands.jpg\n",
      "❌ Skipping missing file: wikiart\\Post_Impressionism/vincent-van-gogh_l-arlesienne-portrait-of-madame-ginoux-1890.jpg\n",
      "❌ Skipping missing file: wikiart\\Baroque/rembrandt_woman-standing-with-raised-hands.jpg\n",
      "Artist Train Dataset: 13344 images\n",
      "Genre Train Dataset: 22751 images\n",
      "Style Train Dataset: 17106 images\n"
     ]
    }
   ],
   "source": [
    "class WikiArtDataset(Dataset):\n",
    "    def __init__(self, dataframe, root_dir, transform=None):\n",
    "        self.dataframe = dataframe\n",
    "        self.root_dir = root_dir\n",
    "        self.transform = transform\n",
    "        self.valid_data = []\n",
    "\n",
    "        # Check all file paths before training\n",
    "        for idx in range(len(dataframe)):\n",
    "            img_path, label = dataframe.iloc[idx]\n",
    "            full_path = os.path.join(root_dir, img_path)\n",
    "\n",
    "            if os.path.exists(full_path):  \n",
    "                self.valid_data.append((full_path, label))  # Keep only valid files\n",
    "            else:\n",
    "                print(f\"❌ Skipping missing file: {full_path}\")  # Debugging output\n",
    "\n",
    "    def __len__(self):\n",
    "        return len(self.valid_data)\n",
    "\n",
    "    def __getitem__(self, idx):\n",
    "        img_path, label = self.valid_data[idx]  \n",
    "        image = Image.open(img_path).convert(\"RGB\")\n",
    "\n",
    "        if self.transform:\n",
    "            image = self.transform(image)\n",
    "\n",
    "        return image, label\n",
    "\n",
    "train_artist_dataset = WikiArtDataset(train_artist, DATASET_ROOT, transform=train_transforms)\n",
    "val_artist_dataset = WikiArtDataset(val_artist, DATASET_ROOT, transform=val_transforms)\n",
    "\n",
    "train_genre_dataset = WikiArtDataset(train_genre, DATASET_ROOT, transform=train_transforms)\n",
    "val_genre_dataset = WikiArtDataset(val_genre, DATASET_ROOT, transform=val_transforms)\n",
    "\n",
    "train_style_dataset = WikiArtDataset(train_style, DATASET_ROOT, transform=train_transforms)\n",
    "val_style_dataset = WikiArtDataset(val_style, DATASET_ROOT, transform=val_transforms)\n",
    "\n",
    "# Print dataset sizes\n",
    "print(f\"Artist Train Dataset: {len(train_artist_dataset)} images\")\n",
    "print(f\"Genre Train Dataset: {len(train_genre_dataset)} images\")\n",
    "print(f\"Style Train Dataset: {len(train_style_dataset)} images\")\n"
   ]
  },
  {
   "cell_type": "code",
   "execution_count": 5,
   "metadata": {},
   "outputs": [
    {
     "name": "stdout",
     "output_type": "stream",
     "text": [
      "Loaded batch of torch.Size([32, 3, 128, 128]) images and labels.\n"
     ]
    }
   ],
   "source": [
    "# Define batch size\n",
    "BATCH_SIZE = 32\n",
    "\n",
    "# Create DataLoaders\n",
    "train_artist_loader = DataLoader(train_artist_dataset, batch_size=BATCH_SIZE, shuffle=True)\n",
    "val_artist_loader = DataLoader(val_artist_dataset, batch_size=BATCH_SIZE, shuffle=False)\n",
    "\n",
    "train_genre_loader = DataLoader(train_genre_dataset, batch_size=BATCH_SIZE, shuffle=True)\n",
    "val_genre_loader = DataLoader(val_genre_dataset, batch_size=BATCH_SIZE, shuffle=False)\n",
    "\n",
    "train_style_loader = DataLoader(train_style_dataset, batch_size=BATCH_SIZE, shuffle=True)\n",
    "val_style_loader = DataLoader(val_style_dataset, batch_size=BATCH_SIZE, shuffle=False)\n",
    "\n",
    "data_iter = iter(train_style_loader)\n",
    "sample_images, sample_labels = next(data_iter)\n",
    "\n",
    "print(f\"Loaded batch of {sample_images.shape} images and labels.\")\n"
   ]
  },
  {
   "cell_type": "code",
   "execution_count": 6,
   "metadata": {},
   "outputs": [],
   "source": [
    "class CNNFeatureExtractor(nn.Module):\n",
    "    def __init__(self):\n",
    "        super(CNNFeatureExtractor, self).__init__()\n",
    "        mobilenet = models.mobilenet_v2(pretrained=True) \n",
    "        self.feature_extractor = nn.Sequential(*list(mobilenet.children())[:-1])  # Remove classifier\n",
    "\n",
    "    def forward(self, x):\n",
    "        x = self.feature_extractor(x)  # Extract CNN features\n",
    "        x = x.view(x.size(0), x.size(1), -1)  # Flatten to (batch_size, channels, features)\n",
    "        return x\n"
   ]
  },
  {
   "cell_type": "code",
   "execution_count": 7,
   "metadata": {},
   "outputs": [],
   "source": [
    "class CNNRNNClassifier(nn.Module):\n",
    "    def __init__(self, num_classes):\n",
    "        super(CNNRNNClassifier, self).__init__()\n",
    "        self.cnn = CNNFeatureExtractor()\n",
    "        self.rnn = nn.GRU(input_size=1280, hidden_size=256, num_layers=1, batch_first=True)\n",
    "        self.fc = nn.Linear(256, num_classes)  # Fully connected output layer\n",
    "\n",
    "    def forward(self, x):\n",
    "        x = self.cnn(x)  # Extract CNN features\n",
    "        x = x.view(x.size(0), -1, x.size(1))  # Reshape to (batch_size, 49, 1280)\n",
    "        x, _ = self.rnn(x)  # Pass features through LSTM\n",
    "        x = x[:, -1, :]  # Get last time step\n",
    "        x = self.fc(x)  # Fully connected output layer\n",
    "        return x\n"
   ]
  },
  {
   "cell_type": "code",
   "execution_count": 8,
   "metadata": {},
   "outputs": [],
   "source": [
    "num_classes_style = len(train_style[\"Label\"].unique())  # Count unique labels in CSV\n",
    "num_classes_artist = len(train_artist[\"Label\"].unique())\n",
    "num_classes_genre = len(train_genre[\"Label\"].unique())"
   ]
  },
  {
   "cell_type": "code",
   "execution_count": 9,
   "metadata": {},
   "outputs": [
    {
     "data": {
      "text/plain": [
       "10"
      ]
     },
     "execution_count": 9,
     "metadata": {},
     "output_type": "execute_result"
    }
   ],
   "source": [
    "num_classes_genre"
   ]
  },
  {
   "cell_type": "code",
   "execution_count": 10,
   "metadata": {},
   "outputs": [],
   "source": [
    "# Function to save checkpoint\n",
    "def save_checkpoint(model, optimizer, epoch, val_loss, val_acc, file):\n",
    "    checkpoint = {\n",
    "        \"epoch\": epoch,\n",
    "        \"model_state\": model.state_dict(),\n",
    "        \"optimizer_state\": optimizer.state_dict(),\n",
    "        \"val_loss\": val_loss,\n",
    "        \"val_acc\": val_acc,\n",
    "    }\n",
    "    torch.save(checkpoint, file)\n",
    "    print(f\"Saved checkpoint at epoch {epoch+1} (Accuracy: {val_acc:.2f}%)\")\n",
    "\n",
    "def load_checkpoint(model, optimizer, file):\n",
    "    if os.path.exists(file):\n",
    "        checkpoint = torch.load(file)\n",
    "        model.load_state_dict(checkpoint[\"model_state\"])\n",
    "        optimizer.load_state_dict(checkpoint[\"optimizer_state\"])\n",
    "        print(f\"Resuming training from epoch {checkpoint['epoch']+1} (Last Accuracy: {checkpoint['val_acc']:.2f}%)\")\n",
    "        return checkpoint[\"epoch\"], checkpoint[\"val_loss\"], checkpoint[\"val_acc\"]\n",
    "    return 0, float(\"inf\"), 0.0 \n",
    "\n",
    "def calculate_accuracy(outputs, labels):\n",
    "    _, preds = torch.max(outputs, 1)\n",
    "    return (preds == labels).sum().item() / labels.size(0)\n",
    "\n",
    "def train_model(model, train_loader, val_loader, optimizer, criterion, checkpoint_file, num_epochs=30, patience=10):\n",
    "    device = \"cuda\" \n",
    "    model.to(device)\n",
    "\n",
    "    start_epoch, best_val_loss, best_val_acc = load_checkpoint(model, optimizer, checkpoint_file)  # Load last checkpoint\n",
    "    epochs_no_improve = 0\n",
    "\n",
    "    for epoch in range(start_epoch, num_epochs): \n",
    "        model.train()\n",
    "        running_loss = 0.0\n",
    "        correct, total = 0, 0  # Track training accuracy\n",
    "        progress_bar = tqdm(train_loader, desc=f\"Epoch {epoch+1}/{num_epochs}\", leave=True)\n",
    "\n",
    "        for images, labels in progress_bar:\n",
    "            images, labels = images.to(device), labels.to(device)\n",
    "\n",
    "            optimizer.zero_grad()\n",
    "            outputs = model(images)\n",
    "            loss = criterion(outputs, labels)\n",
    "            loss.backward()\n",
    "            optimizer.step()\n",
    "\n",
    "            running_loss += loss.item()\n",
    "            correct += (outputs.argmax(dim=1) == labels).sum().item()\n",
    "            total += labels.size(0)\n",
    "\n",
    "            progress_bar.set_postfix(loss=running_loss / len(train_loader))\n",
    "\n",
    "        train_loss = running_loss / len(train_loader)\n",
    "        train_acc = (correct / total) * 100\n",
    "\n",
    "        model.eval()\n",
    "        val_loss = 0.0\n",
    "        correct, total = 0, 0  # Track validation accuracy\n",
    "        with torch.no_grad():\n",
    "            for images, labels in val_loader:\n",
    "                images, labels = images.to(device), labels.to(device)\n",
    "                outputs = model(images)\n",
    "                loss = criterion(outputs, labels)\n",
    "                val_loss += loss.item()\n",
    "\n",
    "                correct += (outputs.argmax(dim=1) == labels).sum().item()\n",
    "                total += labels.size(0)\n",
    "\n",
    "        val_loss /= len(val_loader)\n",
    "        val_acc = (correct / total) * 100  # Validation Accuracy\n",
    "\n",
    "        print(f\"Epoch {epoch+1}: Train Loss: {train_loss:.4f}, Train Acc: {train_acc:.2f}% | Val Loss: {val_loss:.4f}, Val Acc: {val_acc:.2f}%\")\n",
    "\n",
    "        # Save checkpoint if accuracy improves\n",
    "        if val_acc > best_val_acc:\n",
    "            best_val_acc = val_acc\n",
    "            best_val_loss = val_loss\n",
    "            save_checkpoint(model, optimizer, epoch, val_loss, val_acc, checkpoint_file)\n",
    "\n",
    "        # Early stopping\n",
    "        if val_loss < best_val_loss:\n",
    "            best_val_loss = val_loss\n",
    "            epochs_no_improve = 0\n",
    "        else:\n",
    "            epochs_no_improve += 1\n",
    "            if epochs_no_improve >= patience:\n",
    "                print(\"Early stopping triggered. Stopping training.\")\n",
    "                break\n",
    "\n",
    "    print(f\"Training complete! Best Validation Accuracy: {best_val_acc:.2f}%\")\n"
   ]
  },
  {
   "cell_type": "code",
   "execution_count": 11,
   "metadata": {},
   "outputs": [],
   "source": [
    "criterion = nn.CrossEntropyLoss()\n",
    "BATCH_SIZE = 4"
   ]
  },
  {
   "cell_type": "code",
   "execution_count": null,
   "metadata": {},
   "outputs": [],
   "source": [
    "style_model = CNNRNNClassifier(num_classes_style)\n",
    "optimizer_style = torch.optim.Adam(style_model.parameters(), lr=0.0001)\n",
    "train_model(style_model, train_style_loader, val_style_loader, optimizer_style, criterion,\"style.pth\")\n",
    "torch.save(style_model,\"style_model.pth\")"
   ]
  },
  {
   "cell_type": "code",
   "execution_count": 12,
   "metadata": {},
   "outputs": [
    {
     "name": "stderr",
     "output_type": "stream",
     "text": [
      "Epoch 1/30: 100%|██████████| 417/417 [09:13<00:00,  1.33s/it, loss=1.89] \n"
     ]
    },
    {
     "name": "stdout",
     "output_type": "stream",
     "text": [
      "📊 Epoch 1: Train Loss: 1.8926, Train Acc: 46.74% | Val Loss: 1.2791, Val Acc: 63.62%\n",
      "✅ Saved checkpoint at epoch 1 (Accuracy: 63.62%)\n"
     ]
    },
    {
     "name": "stderr",
     "output_type": "stream",
     "text": [
      "Epoch 2/30: 100%|██████████| 417/417 [06:35<00:00,  1.05it/s, loss=1.16] \n"
     ]
    },
    {
     "name": "stdout",
     "output_type": "stream",
     "text": [
      "📊 Epoch 2: Train Loss: 1.1568, Train Acc: 66.20% | Val Loss: 1.0094, Val Acc: 70.72%\n",
      "✅ Saved checkpoint at epoch 2 (Accuracy: 70.72%)\n"
     ]
    },
    {
     "name": "stderr",
     "output_type": "stream",
     "text": [
      "Epoch 3/30: 100%|██████████| 417/417 [06:32<00:00,  1.06it/s, loss=0.903]\n"
     ]
    },
    {
     "name": "stdout",
     "output_type": "stream",
     "text": [
      "📊 Epoch 3: Train Loss: 0.9028, Train Acc: 73.46% | Val Loss: 0.8907, Val Acc: 73.75%\n",
      "✅ Saved checkpoint at epoch 3 (Accuracy: 73.75%)\n"
     ]
    },
    {
     "name": "stderr",
     "output_type": "stream",
     "text": [
      "Epoch 4/30: 100%|██████████| 417/417 [06:36<00:00,  1.05it/s, loss=0.75] \n"
     ]
    },
    {
     "name": "stdout",
     "output_type": "stream",
     "text": [
      "📊 Epoch 4: Train Loss: 0.7497, Train Acc: 77.83% | Val Loss: 0.8527, Val Acc: 75.74%\n",
      "✅ Saved checkpoint at epoch 4 (Accuracy: 75.74%)\n"
     ]
    },
    {
     "name": "stderr",
     "output_type": "stream",
     "text": [
      "Epoch 5/30: 100%|██████████| 417/417 [06:38<00:00,  1.05it/s, loss=0.624]\n"
     ]
    },
    {
     "name": "stdout",
     "output_type": "stream",
     "text": [
      "📊 Epoch 5: Train Loss: 0.6240, Train Acc: 81.03% | Val Loss: 0.8039, Val Acc: 76.50%\n",
      "✅ Saved checkpoint at epoch 5 (Accuracy: 76.50%)\n"
     ]
    },
    {
     "name": "stderr",
     "output_type": "stream",
     "text": [
      "Epoch 6/30: 100%|██████████| 417/417 [06:34<00:00,  1.06it/s, loss=0.544] \n"
     ]
    },
    {
     "name": "stdout",
     "output_type": "stream",
     "text": [
      "📊 Epoch 6: Train Loss: 0.5443, Train Acc: 83.67% | Val Loss: 0.7630, Val Acc: 77.76%\n",
      "✅ Saved checkpoint at epoch 6 (Accuracy: 77.76%)\n"
     ]
    },
    {
     "name": "stderr",
     "output_type": "stream",
     "text": [
      "Epoch 7/30: 100%|██████████| 417/417 [06:35<00:00,  1.05it/s, loss=0.467]\n"
     ]
    },
    {
     "name": "stdout",
     "output_type": "stream",
     "text": [
      "📊 Epoch 7: Train Loss: 0.4673, Train Acc: 85.83% | Val Loss: 0.7841, Val Acc: 77.55%\n"
     ]
    },
    {
     "name": "stderr",
     "output_type": "stream",
     "text": [
      "Epoch 8/30: 100%|██████████| 417/417 [06:36<00:00,  1.05it/s, loss=0.41]  \n"
     ]
    },
    {
     "name": "stdout",
     "output_type": "stream",
     "text": [
      "📊 Epoch 8: Train Loss: 0.4099, Train Acc: 87.48% | Val Loss: 0.7854, Val Acc: 77.04%\n"
     ]
    },
    {
     "name": "stderr",
     "output_type": "stream",
     "text": [
      "Epoch 9/30: 100%|██████████| 417/417 [06:34<00:00,  1.06it/s, loss=0.354] \n"
     ]
    },
    {
     "name": "stdout",
     "output_type": "stream",
     "text": [
      "📊 Epoch 9: Train Loss: 0.3542, Train Acc: 89.37% | Val Loss: 0.7783, Val Acc: 78.60%\n",
      "✅ Saved checkpoint at epoch 9 (Accuracy: 78.60%)\n"
     ]
    },
    {
     "name": "stderr",
     "output_type": "stream",
     "text": [
      "Epoch 10/30: 100%|██████████| 417/417 [06:52<00:00,  1.01it/s, loss=0.299] \n"
     ]
    },
    {
     "name": "stdout",
     "output_type": "stream",
     "text": [
      "📊 Epoch 10: Train Loss: 0.2990, Train Acc: 90.89% | Val Loss: 0.7834, Val Acc: 78.13%\n",
      "⏹️ Early stopping triggered. Stopping training.\n",
      "✅ Training complete! Best Validation Accuracy: 78.60%\n"
     ]
    }
   ],
   "source": [
    "artist_model = CNNRNNClassifier(num_classes_artist)\n",
    "optimizer_artist = torch.optim.Adam(artist_model.parameters(), lr=0.0001)\n",
    "train_model(artist_model, train_artist_loader, val_artist_loader, optimizer_artist, criterion,\"artist.pth\")\n",
    "torch.save(artist_model,\"artist_model.pth\")"
   ]
  },
  {
   "cell_type": "code",
   "execution_count": null,
   "metadata": {},
   "outputs": [
    {
     "name": "stderr",
     "output_type": "stream",
     "text": [
      "c:\\Users\\goyal\\AppData\\Local\\Programs\\Python\\Python311\\Lib\\site-packages\\torchvision\\models\\_utils.py:208: UserWarning: The parameter 'pretrained' is deprecated since 0.13 and may be removed in the future, please use 'weights' instead.\n",
      "  warnings.warn(\n",
      "c:\\Users\\goyal\\AppData\\Local\\Programs\\Python\\Python311\\Lib\\site-packages\\torchvision\\models\\_utils.py:223: UserWarning: Arguments other than a weight enum or `None` for 'weights' are deprecated since 0.13 and may be removed in the future. The current behavior is equivalent to passing `weights=MobileNet_V2_Weights.IMAGENET1K_V1`. You can also use `weights=MobileNet_V2_Weights.DEFAULT` to get the most up-to-date weights.\n",
      "  warnings.warn(msg)\n",
      "Epoch 1/30:   8%|▊         | 54/711 [01:29<16:50,  1.54s/it, loss=0.119] c:\\Users\\goyal\\AppData\\Local\\Programs\\Python\\Python311\\Lib\\site-packages\\PIL\\Image.py:3402: DecompressionBombWarning: Image size (99962094 pixels) exceeds limit of 89478485 pixels, could be decompression bomb DOS attack.\n",
      "  warnings.warn(\n",
      "Epoch 1/30:  84%|████████▍ | 597/711 [20:09<03:53,  2.05s/it, loss=0.966]c:\\Users\\goyal\\AppData\\Local\\Programs\\Python\\Python311\\Lib\\site-packages\\PIL\\Image.py:3402: DecompressionBombWarning: Image size (107327830 pixels) exceeds limit of 89478485 pixels, could be decompression bomb DOS attack.\n",
      "  warnings.warn(\n",
      "Epoch 1/30: 100%|██████████| 711/711 [24:08<00:00,  2.04s/it, loss=1.13] \n"
     ]
    },
    {
     "name": "stdout",
     "output_type": "stream",
     "text": [
      "Epoch 1: Train Loss: 1.1290, Train Acc: 61.49% | Val Loss: 0.9561, Val Acc: 68.20%\n",
      "Saved checkpoint at epoch 1 (Accuracy: 68.20%)\n"
     ]
    },
    {
     "name": "stderr",
     "output_type": "stream",
     "text": [
      "Epoch 2/30: 100%|██████████| 711/711 [15:38<00:00,  1.32s/it, loss=0.941]\n"
     ]
    },
    {
     "name": "stdout",
     "output_type": "stream",
     "text": [
      "Epoch 2: Train Loss: 0.9406, Train Acc: 67.83% | Val Loss: 0.8832, Val Acc: 69.76%\n",
      "Saved checkpoint at epoch 2 (Accuracy: 69.76%)\n"
     ]
    },
    {
     "name": "stderr",
     "output_type": "stream",
     "text": [
      "Epoch 3/30: 100%|██████████| 711/711 [11:23<00:00,  1.04it/s, loss=0.866]\n"
     ]
    },
    {
     "name": "stdout",
     "output_type": "stream",
     "text": [
      "Epoch 3: Train Loss: 0.8665, Train Acc: 69.98% | Val Loss: 0.8726, Val Acc: 70.77%\n",
      "Saved checkpoint at epoch 3 (Accuracy: 70.77%)\n"
     ]
    },
    {
     "name": "stderr",
     "output_type": "stream",
     "text": [
      "Epoch 4/30: 100%|██████████| 711/711 [12:45<00:00,  1.08s/it, loss=0.803]\n"
     ]
    },
    {
     "name": "stdout",
     "output_type": "stream",
     "text": [
      "Epoch 4: Train Loss: 0.8026, Train Acc: 72.16% | Val Loss: 0.8658, Val Acc: 70.62%\n"
     ]
    },
    {
     "name": "stderr",
     "output_type": "stream",
     "text": [
      "Epoch 5/30: 100%|██████████| 711/711 [12:34<00:00,  1.06s/it, loss=0.766] \n"
     ]
    },
    {
     "name": "stdout",
     "output_type": "stream",
     "text": [
      "Epoch 5: Train Loss: 0.7659, Train Acc: 73.14% | Val Loss: 0.8740, Val Acc: 70.78%\n",
      "Saved checkpoint at epoch 5 (Accuracy: 70.78%)\n"
     ]
    },
    {
     "name": "stderr",
     "output_type": "stream",
     "text": [
      "Epoch 6/30: 100%|██████████| 711/711 [13:00<00:00,  1.10s/it, loss=0.724] \n"
     ]
    },
    {
     "name": "stdout",
     "output_type": "stream",
     "text": [
      "Epoch 6: Train Loss: 0.7241, Train Acc: 74.79% | Val Loss: 0.8547, Val Acc: 70.35%\n"
     ]
    },
    {
     "name": "stderr",
     "output_type": "stream",
     "text": [
      "Epoch 7/30: 100%|██████████| 711/711 [16:52<00:00,  1.42s/it, loss=0.684] \n"
     ]
    },
    {
     "name": "stdout",
     "output_type": "stream",
     "text": [
      "Epoch 7: Train Loss: 0.6837, Train Acc: 75.85% | Val Loss: 0.8559, Val Acc: 70.54%\n"
     ]
    },
    {
     "name": "stderr",
     "output_type": "stream",
     "text": [
      "Epoch 8/30: 100%|██████████| 711/711 [12:30<00:00,  1.06s/it, loss=0.649] \n"
     ]
    },
    {
     "name": "stdout",
     "output_type": "stream",
     "text": [
      "Epoch 8: Train Loss: 0.6494, Train Acc: 77.36% | Val Loss: 0.8665, Val Acc: 70.84%\n",
      "Saved checkpoint at epoch 8 (Accuracy: 70.84%)\n"
     ]
    },
    {
     "name": "stderr",
     "output_type": "stream",
     "text": [
      "Epoch 9/30: 100%|██████████| 711/711 [13:16<00:00,  1.12s/it, loss=0.622] \n"
     ]
    },
    {
     "name": "stdout",
     "output_type": "stream",
     "text": [
      "Epoch 9: Train Loss: 0.6218, Train Acc: 78.08% | Val Loss: 0.8507, Val Acc: 71.62%\n",
      "Saved checkpoint at epoch 9 (Accuracy: 71.62%)\n"
     ]
    },
    {
     "name": "stderr",
     "output_type": "stream",
     "text": [
      "Epoch 10/30: 100%|██████████| 711/711 [13:12<00:00,  1.11s/it, loss=0.598] \n"
     ]
    },
    {
     "name": "stdout",
     "output_type": "stream",
     "text": [
      "Epoch 10: Train Loss: 0.5982, Train Acc: 79.10% | Val Loss: 0.8962, Val Acc: 70.54%\n"
     ]
    },
    {
     "name": "stderr",
     "output_type": "stream",
     "text": [
      "Epoch 11/30: 100%|██████████| 711/711 [13:14<00:00,  1.12s/it, loss=0.568] \n"
     ]
    },
    {
     "name": "stdout",
     "output_type": "stream",
     "text": [
      "Epoch 11: Train Loss: 0.5681, Train Acc: 80.14% | Val Loss: 0.8916, Val Acc: 70.99%\n"
     ]
    },
    {
     "name": "stderr",
     "output_type": "stream",
     "text": [
      "Epoch 12/30: 100%|██████████| 711/711 [6:20:57<00:00, 32.15s/it, loss=0.536]      \n"
     ]
    },
    {
     "name": "stdout",
     "output_type": "stream",
     "text": [
      "Epoch 12: Train Loss: 0.5365, Train Acc: 81.32% | Val Loss: 0.9001, Val Acc: 71.25%\n"
     ]
    },
    {
     "name": "stderr",
     "output_type": "stream",
     "text": [
      "Epoch 13/30: 100%|██████████| 711/711 [13:36<00:00,  1.15s/it, loss=0.509] \n"
     ]
    },
    {
     "name": "stdout",
     "output_type": "stream",
     "text": [
      "Epoch 13: Train Loss: 0.5092, Train Acc: 82.08% | Val Loss: 0.9136, Val Acc: 71.72%\n",
      "Saved checkpoint at epoch 13 (Accuracy: 71.72%)\n"
     ]
    },
    {
     "name": "stderr",
     "output_type": "stream",
     "text": [
      "Epoch 14/30: 100%|██████████| 711/711 [11:10<00:00,  1.06it/s, loss=0.482] \n"
     ]
    },
    {
     "name": "stdout",
     "output_type": "stream",
     "text": [
      "Epoch 14: Train Loss: 0.4819, Train Acc: 83.03% | Val Loss: 0.9234, Val Acc: 71.23%\n"
     ]
    },
    {
     "name": "stderr",
     "output_type": "stream",
     "text": [
      "Epoch 15/30: 100%|██████████| 711/711 [11:06<00:00,  1.07it/s, loss=0.459] \n"
     ]
    },
    {
     "name": "stdout",
     "output_type": "stream",
     "text": [
      "Epoch 15: Train Loss: 0.4593, Train Acc: 83.75% | Val Loss: 0.9430, Val Acc: 70.56%\n"
     ]
    },
    {
     "name": "stderr",
     "output_type": "stream",
     "text": [
      "Epoch 16/30: 100%|██████████| 711/711 [11:07<00:00,  1.06it/s, loss=0.434] \n"
     ]
    },
    {
     "name": "stdout",
     "output_type": "stream",
     "text": [
      "Epoch 16: Train Loss: 0.4338, Train Acc: 84.64% | Val Loss: 0.9623, Val Acc: 71.16%\n",
      "Early stopping triggered. Stopping training.\n",
      "Training complete! Best Validation Accuracy: 71.72%\n"
     ]
    },
    {
     "ename": "NameError",
     "evalue": "name 'style_model' is not defined",
     "output_type": "error",
     "traceback": [
      "\u001b[1;31m---------------------------------------------------------------------------\u001b[0m",
      "\u001b[1;31mNameError\u001b[0m                                 Traceback (most recent call last)",
      "Cell \u001b[1;32mIn[12], line 4\u001b[0m\n\u001b[0;32m      2\u001b[0m optimizer_genre \u001b[38;5;241m=\u001b[39m torch\u001b[38;5;241m.\u001b[39moptim\u001b[38;5;241m.\u001b[39mAdam(genre_model\u001b[38;5;241m.\u001b[39mparameters(), lr\u001b[38;5;241m=\u001b[39m\u001b[38;5;241m0.0003\u001b[39m)\n\u001b[0;32m      3\u001b[0m train_model(genre_model, train_genre_loader, val_genre_loader, optimizer_genre, criterion,\u001b[38;5;124m\"\u001b[39m\u001b[38;5;124mgenre.pth\u001b[39m\u001b[38;5;124m\"\u001b[39m)\n\u001b[1;32m----> 4\u001b[0m torch\u001b[38;5;241m.\u001b[39msave(\u001b[43mstyle_model\u001b[49m,\u001b[38;5;124m\"\u001b[39m\u001b[38;5;124mgenre_model.pth\u001b[39m\u001b[38;5;124m\"\u001b[39m)\n",
      "\u001b[1;31mNameError\u001b[0m: name 'style_model' is not defined"
     ]
    }
   ],
   "source": [
    "genre_model = CNNRNNClassifier(num_classes_genre)\n",
    "optimizer_genre = torch.optim.Adam(genre_model.parameters(), lr=0.0001)\n",
    "train_model(genre_model, train_genre_loader, val_genre_loader, optimizer_genre, criterion,\"genre.pth\")\n",
    "torch.save(genre_model,\"genre_model.pth\")"
   ]
  },
  {
   "cell_type": "code",
   "execution_count": null,
   "metadata": {},
   "outputs": [],
   "source": [
    "import torch\n",
    "from sklearn.metrics import accuracy_score, precision_score, recall_score, f1_score, confusion_matrix\n",
    "import seaborn as sns\n",
    "import matplotlib.pyplot as plt\n",
    "\n",
    "def evaluate_saved_model(model_file, val_loader, class_names, device=\"cuda\"):\n",
    "\n",
    "    model = torch.load(model_file, map_location=device)\n",
    "    model.eval()\n",
    "\n",
    "    all_preds, all_labels = [], []\n",
    "\n",
    "    with torch.no_grad():\n",
    "        for images, labels in val_loader:\n",
    "            images, labels = images.to(device), labels.to(device)\n",
    "            outputs = model(images)\n",
    "            preds = torch.argmax(outputs, dim=1)\n",
    "\n",
    "            all_preds.extend(preds.cpu().numpy())\n",
    "            all_labels.extend(labels.cpu().numpy())\n",
    "\n",
    "    accuracy = accuracy_score(all_labels, all_preds)\n",
    "    precision = precision_score(all_labels, all_preds, average=\"weighted\")\n",
    "    recall = recall_score(all_labels, all_preds, average=\"weighted\")\n",
    "    f1 = f1_score(all_labels, all_preds, average=\"weighted\")\n",
    "\n",
    "    print(f\"Accuracy: {accuracy * 100:.2f}%\")\n",
    "    print(f\"Precision: {precision * 100:.2f}%\")\n",
    "    print(f\"Recall: {recall * 100:.2f}%\")\n",
    "    print(f\"F1-Score: {f1 * 100:.2f}%\")\n",
    "\n",
    "    # Confusion Matrix\n",
    "    cm = confusion_matrix(all_labels, all_preds)\n",
    "    plt.figure(figsize=(10, 7))\n",
    "    sns.heatmap(cm, annot=True, fmt=\"d\", cmap=\"Blues\", xticklabels=class_names, yticklabels=class_names)\n",
    "    plt.xlabel(\"Predicted\")\n",
    "    plt.ylabel(\"Actual\")\n",
    "    plt.title(\"Confusion Matrix\")\n",
    "    plt.show()\n",
    "\n",
    "    return accuracy, precision, recall, f1\n",
    "\n",
    "def get_class_names(train_dataset):\n",
    "    class_labels = train_dataset.dataframe[\"Label\"].unique()\n",
    "    class_labels = sorted(class_labels)  # Sort for consistency\n",
    "    return class_labels\n"
   ]
  },
  {
   "cell_type": "code",
   "execution_count": null,
   "metadata": {},
   "outputs": [
    {
     "name": "stderr",
     "output_type": "stream",
     "text": [
      "C:\\Users\\goyal\\AppData\\Local\\Temp\\ipykernel_14408\\3440637939.py:8: FutureWarning: You are using `torch.load` with `weights_only=False` (the current default value), which uses the default pickle module implicitly. It is possible to construct malicious pickle data which will execute arbitrary code during unpickling (See https://github.com/pytorch/pytorch/blob/main/SECURITY.md#untrusted-models for more details). In a future release, the default value for `weights_only` will be flipped to `True`. This limits the functions that could be executed during unpickling. Arbitrary objects will no longer be allowed to be loaded via this mode unless they are explicitly allowlisted by the user via `torch.serialization.add_safe_globals`. We recommend you start setting `weights_only=True` for any use case where you don't have full control of the loaded file. Please open an issue on GitHub for any issues related to this experimental feature.\n",
      "  model = torch.load(model_file, map_location=device)\n"
     ]
    },
    {
     "name": "stdout",
     "output_type": "stream",
     "text": [
      "Accuracy: 78.13%\n",
      "Precision: 78.27%\n",
      "Recall: 78.13%\n",
      "F1-Score: 77.99%\n"
     ]
    },
    {
     "data": {
      "image/png": "[encoded data removed]",
      "text/plain": [
       "<Figure size 1000x700 with 2 Axes>"
      ]
     },
     "metadata": {},
     "output_type": "display_data"
    },
    {
     "data": {
      "text/plain": [
       "(0.7812828601472135, 0.782726120141294, 0.7812828601472135, 0.7798672940989553)"
      ]
     },
     "execution_count": 17,
     "metadata": {},
     "output_type": "execute_result"
    }
   ],
   "source": [
    "class_names = get_class_names(train_artist_dataset)\n",
    "evaluate_saved_model(\"artist_model.pth\", val_artist_loader, class_names)"
   ]
  },
  {
   "cell_type": "code",
   "execution_count": null,
   "metadata": {},
   "outputs": [],
   "source": []
  }
 ],
 "metadata": {
  "kernelspec": {
   "display_name": "Python 3",
   "language": "python",
   "name": "python3"
  },
  "language_info": {
   "codemirror_mode": {
    "name": "ipython",
    "version": 3
   },
   "file_extension": ".py",
   "mimetype": "text/x-python",
   "name": "python",
   "nbconvert_exporter": "python",
   "pygments_lexer": "ipython3",
   "version": "3.11.9"
  }
 },
 "nbformat": 4,
 "nbformat_minor": 2
}
